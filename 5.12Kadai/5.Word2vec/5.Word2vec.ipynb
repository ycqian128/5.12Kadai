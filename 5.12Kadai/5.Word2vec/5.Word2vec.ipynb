{
 "cells": [
  {
   "cell_type": "code",
   "execution_count": 1,
   "metadata": {
    "collapsed": true
   },
   "outputs": [],
   "source": [
    "%matplotlib inline\n",
    "import matplotlib.pyplot as plt\n",
    "from IPython import display\n",
    "import time\n",
    "import os\n",
    "\n",
    "# proxyの設定．\n",
    "\n",
    "# torchvision.datasetsを利用する場合は，datasetを直接ダウンロードするので，学内マシンからは通常必要．\n",
    "os.environ[\"http_proxy\"] = \"http://proxy.uec.ac.jp:8080/\"\n",
    "os.environ[\"https_proxy\"] = \"http://proxy.uec.ac.jp:8080/\"\n",
    "os.environ[\"CUDA_VISIBLE_DEVICES\"] = \"0,1\"      # \"0\":GPU0, \"1\":GPU1, \"0,1\":GPUを2つとも使用\n",
    "\n",
    "import numpy as np\n",
    "import torch\n",
    "import torchvision\n",
    "import torch.nn as nn\n",
    "import torch.optim as optim\n",
    "import torch.nn.functional as F\n",
    "from torchvision import datasets, transforms"
   ]
  },
  {
   "cell_type": "code",
   "execution_count": 2,
   "metadata": {},
   "outputs": [
    {
     "name": "stdout",
     "output_type": "stream",
     "text": [
      "--2020-05-19 20:23:47--  http://www.cl.ecei.tohoku.ac.jp/~m-suzuki/jawiki_vector/data/20170201.tar.bz2\n",
      "Resolving proxy.uec.ac.jp (proxy.uec.ac.jp)... 130.153.8.24\n",
      "Connecting to proxy.uec.ac.jp (proxy.uec.ac.jp)|130.153.8.24|:8080... connected.\n",
      "Proxy request sent, awaiting response... 200 OK\n",
      "Length: 1373795477 (1.3G) [application/x-bzip2]\n",
      "Saving to: '20170201.tar.bz2'\n",
      "\n",
      "100%[====================================>] 1,373,795,477 11.2MB/s   in 1m 59s \n",
      "\n",
      "2020-05-19 20:25:45 (11.0 MB/s) - '20170201.tar.bz2' saved [1373795477/1373795477]\n",
      "\n"
     ]
    }
   ],
   "source": [
    "!wget www.cl.ecei.tohoku.ac.jp/~m-suzuki/jawiki_vector/data/20170201.tar.bz2"
   ]
  },
  {
   "cell_type": "code",
   "execution_count": null,
   "metadata": {},
   "outputs": [],
   "source": [
    "import sys\n",
    "!{sys.executable} -m pip install --user gensim"
   ]
  },
  {
   "cell_type": "code",
   "execution_count": 18,
   "metadata": {},
   "outputs": [],
   "source": [
    "import gensim\n",
    "model_dir = 'entity_vector/entity_vector.model.bin'\n",
    "model = gensim.models.KeyedVectors.load_word2vec_format(model_dir, binary=True)"
   ]
  },
  {
   "cell_type": "code",
   "execution_count": 22,
   "metadata": {},
   "outputs": [
    {
     "name": "stderr",
     "output_type": "stream",
     "text": [
      "/usr/local/anaconda3/lib/python3.6/site-packages/ipykernel_launcher.py:1: DeprecationWarning: Call to deprecated `wv` (Attribute will be removed in 4.0.0, use self instead).\n",
      "  \"\"\"Entry point for launching an IPython kernel.\n"
     ]
    },
    {
     "data": {
      "text/plain": [
       "array([-0.09985781, -0.04528721,  0.14309461,  0.04331237, -0.05111622,\n",
       "        0.02780907, -0.0164357 , -0.03563423,  0.06376494, -0.06248141,\n",
       "       -0.11966642,  0.14175622, -0.02436817, -0.15606536, -0.00073292,\n",
       "        0.03640464, -0.10770931,  0.01223423,  0.06853946, -0.05768216,\n",
       "        0.03636627, -0.05685209,  0.02971395, -0.13778223,  0.04839297,\n",
       "       -0.18639874, -0.08707647,  0.03588375, -0.02607614, -0.09608255,\n",
       "       -0.072992  , -0.00875725, -0.05510923,  0.07588227,  0.20048644,\n",
       "        0.03430462,  0.11711261,  0.12323629, -0.06671874, -0.17651275,\n",
       "       -0.14487796,  0.0780989 , -0.11762877,  0.03193246, -0.09853007,\n",
       "       -0.0228832 , -0.0319857 ,  0.05298912, -0.10750021, -0.03470328,\n",
       "        0.06585295, -0.09762403,  0.08115529,  0.00505495, -0.03916613,\n",
       "       -0.04675321,  0.07809863, -0.07920853,  0.17390606,  0.03019071,\n",
       "        0.12526204, -0.00118598, -0.00435806, -0.13399956, -0.02860726,\n",
       "       -0.01012302,  0.04259544,  0.12178548, -0.00323822,  0.03435352,\n",
       "       -0.07515316,  0.06348407, -0.01839814,  0.05672923,  0.08993293,\n",
       "       -0.04648365, -0.04618993, -0.13823396, -0.00065025,  0.02862635,\n",
       "        0.06182712, -0.0658457 ,  0.0448496 , -0.04865271, -0.01964787,\n",
       "        0.07375312, -0.10335252, -0.01098985,  0.19947092, -0.08206552,\n",
       "       -0.01780737,  0.0206942 , -0.0462768 , -0.01794187,  0.10395258,\n",
       "       -0.07859963, -0.06260625,  0.10472364,  0.14532855, -0.0600545 ,\n",
       "       -0.01996757, -0.08589444, -0.06182476, -0.06419498,  0.01043583,\n",
       "        0.20041822,  0.07041761, -0.01268522, -0.05954392,  0.10397423,\n",
       "       -0.01687784,  0.04280639, -0.02868662, -0.04367115, -0.00085719,\n",
       "        0.02531513, -0.07452299, -0.02245639, -0.0216313 ,  0.02656288,\n",
       "       -0.05031127, -0.00537084, -0.04762201, -0.09792029, -0.16625781,\n",
       "        0.1330847 , -0.05425066,  0.03121885, -0.03828881, -0.02894468,\n",
       "       -0.06059461,  0.06751817, -0.07182673, -0.06333635, -0.14571895,\n",
       "        0.01649872,  0.04306616, -0.07639441,  0.01583202, -0.01635364,\n",
       "        0.05065952,  0.06140691,  0.12563212,  0.0313338 , -0.04170587,\n",
       "        0.02499664,  0.09526813,  0.07958942,  0.149871  ,  0.1436    ,\n",
       "        0.09522926,  0.05241358, -0.04124873, -0.16808444, -0.05752973,\n",
       "       -0.07071316,  0.15039998, -0.0310427 ,  0.09530645, -0.07410708,\n",
       "        0.01014472, -0.00481674, -0.11419186,  0.07478815,  0.00206361,\n",
       "       -0.06458293, -0.03166132, -0.01999073,  0.08829711, -0.00046337,\n",
       "       -0.0590513 ,  0.02331698,  0.06505071, -0.0993363 , -0.11616922,\n",
       "       -0.02496479, -0.05394679, -0.02860353, -0.06048952, -0.07319634,\n",
       "        0.04765764, -0.06822032, -0.01189648, -0.09743307,  0.03556959,\n",
       "       -0.01620367,  0.09948277, -0.04075069, -0.03711841, -0.09621567,\n",
       "        0.10345906, -0.12013523, -0.06101075,  0.05474354, -0.05049033,\n",
       "        0.10192715,  0.07278033, -0.1741416 ,  0.02222246,  0.08872431],\n",
       "      dtype=float32)"
      ]
     },
     "execution_count": 22,
     "metadata": {},
     "output_type": "execute_result"
    }
   ],
   "source": [
    "#単語ベクトル\n",
    "vector = model.wv['電気通信大学'] \n",
    "vector"
   ]
  },
  {
   "cell_type": "code",
   "execution_count": 37,
   "metadata": {},
   "outputs": [
    {
     "name": "stdout",
     "output_type": "stream",
     "text": [
      "('ポケモン', 0.8059247732162476)\n",
      "('[ピカチュウ_(サトシのポケモン)]', 0.7879241704940796)\n",
      "('[カービィ]', 0.7576284408569336)\n",
      "('[ポケットモンスター_(架空の生物)]', 0.748759388923645)\n",
      "('[ワリオ]', 0.7456034421920776)\n",
      "('[ヨッシー]', 0.7434700727462769)\n",
      "('ピカチュウ', 0.7234353423118591)\n",
      "('[ヒカリ_(アニメポケットモンスター)]', 0.721408486366272)\n",
      "('[ミュウツー]', 0.7161428928375244)\n",
      "('[マリオ_(ゲームキャラクター)]', 0.7144089341163635)\n"
     ]
    }
   ],
   "source": [
    "#類似単語\n",
    "results = model.most_similar(u'[ピカチュウ]')\n",
    "for result in results:\n",
    "    print(result)"
   ]
  },
  {
   "cell_type": "code",
   "execution_count": 42,
   "metadata": {},
   "outputs": [
    {
     "name": "stdout",
     "output_type": "stream",
     "text": [
      "('[大学生協]', 0.47519373893737793)\n",
      "('生協', 0.46215200424194336)\n",
      "('[町内会]', 0.45809900760650635)\n",
      "('私立大学', 0.4549909234046936)\n",
      "('[私立大学]', 0.45075586438179016)\n",
      "('自治会', 0.4495047926902771)\n",
      "('[医科大学]', 0.44734373688697815)\n",
      "('[公立大学]', 0.4456261396408081)\n",
      "('[日本人学校]', 0.44493407011032104)\n",
      "('[女子大学]', 0.4444669485092163)\n"
     ]
    }
   ],
   "source": [
    "#引き算\n",
    "results = model.most_similar(positive=[u'[大学]'],negative=[u'[数学]'])\n",
    "for result in results:\n",
    "    print(result)"
   ]
  },
  {
   "cell_type": "code",
   "execution_count": 52,
   "metadata": {},
   "outputs": [
    {
     "name": "stdout",
     "output_type": "stream",
     "text": [
      "('[日比谷公園]', 0.7260562181472778)\n",
      "('[上野恩賜公園]', 0.7071521282196045)\n",
      "('[青山_(東京都港区)]', 0.6866978406906128)\n",
      "('[月島]', 0.6848454475402832)\n",
      "('[赤坂_(東京都港区)]', 0.6832717657089233)\n",
      "('[芝公園]', 0.6748826503753662)\n",
      "('[代々木公園]', 0.6744815111160278)\n",
      "('[上野]', 0.6725881099700928)\n",
      "('[新宿御苑]', 0.669266939163208)\n",
      "('[北の丸公園]', 0.6659857034683228)\n"
     ]
    }
   ],
   "source": [
    "#足し算\n",
    "results = model.most_similar(positive=[u'[東京]',u'[公園]'])\n",
    "for result in results:\n",
    "    print(result)"
   ]
  },
  {
   "cell_type": "code",
   "execution_count": 81,
   "metadata": {},
   "outputs": [
    {
     "name": "stdout",
     "output_type": "stream",
     "text": [
      "('[京都大学]', 0.6379557847976685)\n",
      "('[京都帝国大学]', 0.6370033621788025)\n",
      "('[大谷大学]', 0.6262593865394592)\n",
      "('東大', 0.6203417778015137)\n",
      "('[東京帝国大学]', 0.6098219156265259)\n",
      "('[國學院大學]', 0.6031330823898315)\n",
      "('[東北大学]', 0.6001753807067871)\n",
      "('[九州大学]', 0.5959972143173218)\n",
      "('東京大学', 0.5811233520507812)\n",
      "('[大正大学]', 0.5761975049972534)\n"
     ]
    }
   ],
   "source": [
    "#加減算\n",
    "results = model.most_similar(positive=[u'[東京大学]',u'[京都]'],negative=[u'[東京]'])\n",
    "for result in results:\n",
    "    print(result)"
   ]
  },
  {
   "cell_type": "code",
   "execution_count": 108,
   "metadata": {},
   "outputs": [
    {
     "name": "stdout",
     "output_type": "stream",
     "text": [
      "('[美術館]', 0.6756891012191772)\n",
      "('[日比谷公園]', 0.6479947566986084)\n",
      "('[上野恩賜公園]', 0.6453565359115601)\n",
      "('[科学館]', 0.642791211605072)\n",
      "('[国立]', 0.6348460912704468)\n",
      "('書籍館', 0.6338818669319153)\n",
      "('[横浜]', 0.6328469514846802)\n",
      "('[赤坂_(東京都港区)]', 0.6288894414901733)\n",
      "('[文学館]', 0.6271750926971436)\n",
      "('[青山_(東京都港区)]', 0.6255673170089722)\n"
     ]
    }
   ],
   "source": [
    "results = model.most_similar(positive=[u'[博物館]',u'[東京]'])\n",
    "for result in results:\n",
    "    print(result)"
   ]
  },
  {
   "cell_type": "code",
   "execution_count": 96,
   "metadata": {},
   "outputs": [
    {
     "name": "stdout",
     "output_type": "stream",
     "text": [
      "('[ニューヨーク]', 0.7211385369300842)\n",
      "('[シカゴ]', 0.6864314079284668)\n",
      "('[サンフランシスコ]', 0.6799116730690002)\n",
      "('ニューヨーク', 0.6757162809371948)\n",
      "('[ロサンゼルス]', 0.6688859462738037)\n",
      "('ロサンゼルス', 0.6533620357513428)\n",
      "('サンフランシスコ', 0.6382411122322083)\n",
      "('[ロンドン]', 0.6338860988616943)\n",
      "('[シアトル]', 0.6219587326049805)\n",
      "('[トロント]', 0.6208849549293518)\n"
     ]
    }
   ],
   "source": [
    "results = model.most_similar(positive=[u'[東京]',u'[アメリカ]'],negative=[u'[日本]'])\n",
    "for result in results:\n",
    "    print(result)"
   ]
  },
  {
   "cell_type": "code",
   "execution_count": 101,
   "metadata": {},
   "outputs": [
    {
     "name": "stdout",
     "output_type": "stream",
     "text": [
      "('[心斎橋]', 0.7890547513961792)\n",
      "('[日本橋_(大阪市)]', 0.7753708362579346)\n",
      "('[千日前]', 0.765419602394104)\n",
      "('[下北沢]', 0.7421362996101379)\n",
      "('[梅田]', 0.7394716739654541)\n",
      "('[新世界_(大阪)]', 0.7393956780433655)\n",
      "('[有楽町]', 0.7377620935440063)\n",
      "('[道頓堀]', 0.7368851900100708)\n",
      "('[北新地]', 0.7365112900733948)\n",
      "('池袋', 0.7348434925079346)\n"
     ]
    }
   ],
   "source": [
    "results = model.most_similar(positive=[u'[池袋]',u'[大阪]'],negative=[u'[東京]'])\n",
    "for result in results:\n",
    "    print(result)"
   ]
  },
  {
   "cell_type": "code",
   "execution_count": null,
   "metadata": {
    "collapsed": true
   },
   "outputs": [],
   "source": []
  }
 ],
 "metadata": {
  "kernelspec": {
   "display_name": "Python 3 (Anaconda)",
   "language": "python",
   "name": "python3_anaconda"
  },
  "language_info": {
   "codemirror_mode": {
    "name": "ipython",
    "version": 3
   },
   "file_extension": ".py",
   "mimetype": "text/x-python",
   "name": "python",
   "nbconvert_exporter": "python",
   "pygments_lexer": "ipython3",
   "version": "3.6.9"
  }
 },
 "nbformat": 4,
 "nbformat_minor": 2
}

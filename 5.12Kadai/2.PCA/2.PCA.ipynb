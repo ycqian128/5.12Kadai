{
 "cells": [
  {
   "cell_type": "code",
   "execution_count": 10,
   "metadata": {
    "collapsed": true
   },
   "outputs": [],
   "source": [
    "%matplotlib inline\n",
    "import matplotlib.pyplot as plt\n",
    "from IPython import display\n",
    "import time\n",
    "import os\n",
    "\n",
    "# proxyの設定．\n",
    "# torchvision.datasetsを利用する場合は，datasetを直接ダウンロードするので，学内マシンからは通常必要．\n",
    "os.environ[\"http_proxy\"] = \"http://proxy.uec.ac.jp:8080/\"\n",
    "os.environ[\"https_proxy\"] = \"http://proxy.uec.ac.jp:8080/\"\n",
    "os.environ[\"CUDA_VISIBLE_DEVICES\"] = \"0,1\"      # \"0\":GPU0, \"1\":GPU1, \"0,1\":GPUを2つとも使用\n",
    "\n",
    "import numpy as np\n",
    "import torch\n",
    "import torchvision\n",
    "import torch.nn as nn\n",
    "import torch.optim as optim\n",
    "import torch.nn.functional as F\n",
    "from torchvision import datasets, transforms"
   ]
  },
  {
   "cell_type": "code",
   "execution_count": 11,
   "metadata": {
    "collapsed": true
   },
   "outputs": [],
   "source": [
    "import torchvision.models as models\n",
    "from PIL import Image\n",
    "import torchvision.transforms as transforms"
   ]
  },
  {
   "cell_type": "code",
   "execution_count": 12,
   "metadata": {},
   "outputs": [],
   "source": [
    "vgg16 = models.vgg16(pretrained=True,progress=True)"
   ]
  },
  {
   "cell_type": "code",
   "execution_count": 13,
   "metadata": {},
   "outputs": [
    {
     "name": "stdout",
     "output_type": "stream",
     "text": [
      "Sequential(\n",
      "  (0): Sequential(\n",
      "    (0): Conv2d(3, 64, kernel_size=(3, 3), stride=(1, 1), padding=(1, 1))\n",
      "    (1): ReLU(inplace=True)\n",
      "    (2): Conv2d(64, 64, kernel_size=(3, 3), stride=(1, 1), padding=(1, 1))\n",
      "    (3): ReLU(inplace=True)\n",
      "    (4): MaxPool2d(kernel_size=2, stride=2, padding=0, dilation=1, ceil_mode=False)\n",
      "    (5): Conv2d(64, 128, kernel_size=(3, 3), stride=(1, 1), padding=(1, 1))\n",
      "    (6): ReLU(inplace=True)\n",
      "    (7): Conv2d(128, 128, kernel_size=(3, 3), stride=(1, 1), padding=(1, 1))\n",
      "    (8): ReLU(inplace=True)\n",
      "    (9): MaxPool2d(kernel_size=2, stride=2, padding=0, dilation=1, ceil_mode=False)\n",
      "    (10): Conv2d(128, 256, kernel_size=(3, 3), stride=(1, 1), padding=(1, 1))\n",
      "    (11): ReLU(inplace=True)\n",
      "    (12): Conv2d(256, 256, kernel_size=(3, 3), stride=(1, 1), padding=(1, 1))\n",
      "    (13): ReLU(inplace=True)\n",
      "    (14): Conv2d(256, 256, kernel_size=(3, 3), stride=(1, 1), padding=(1, 1))\n",
      "    (15): ReLU(inplace=True)\n",
      "    (16): MaxPool2d(kernel_size=2, stride=2, padding=0, dilation=1, ceil_mode=False)\n",
      "    (17): Conv2d(256, 512, kernel_size=(3, 3), stride=(1, 1), padding=(1, 1))\n",
      "    (18): ReLU(inplace=True)\n",
      "    (19): Conv2d(512, 512, kernel_size=(3, 3), stride=(1, 1), padding=(1, 1))\n",
      "    (20): ReLU(inplace=True)\n",
      "    (21): Conv2d(512, 512, kernel_size=(3, 3), stride=(1, 1), padding=(1, 1))\n",
      "    (22): ReLU(inplace=True)\n",
      "    (23): MaxPool2d(kernel_size=2, stride=2, padding=0, dilation=1, ceil_mode=False)\n",
      "    (24): Conv2d(512, 512, kernel_size=(3, 3), stride=(1, 1), padding=(1, 1))\n",
      "    (25): ReLU(inplace=True)\n",
      "    (26): Conv2d(512, 512, kernel_size=(3, 3), stride=(1, 1), padding=(1, 1))\n",
      "    (27): ReLU(inplace=True)\n",
      "    (28): Conv2d(512, 512, kernel_size=(3, 3), stride=(1, 1), padding=(1, 1))\n",
      "    (29): ReLU(inplace=True)\n",
      "    (30): MaxPool2d(kernel_size=2, stride=2, padding=0, dilation=1, ceil_mode=False)\n",
      "  )\n",
      "  (1): AdaptiveAvgPool2d(output_size=(7, 7))\n",
      "  (2): Flatten()\n",
      "  (3): Linear(in_features=25088, out_features=4096, bias=True)\n",
      "  (4): ReLU(inplace=True)\n",
      "  (5): Dropout(p=0.5, inplace=False)\n",
      "  (6): Linear(in_features=4096, out_features=4096, bias=True)\n",
      ")\n"
     ]
    }
   ],
   "source": [
    "#vgg16fc7を使用して特徴量を抽出する\n",
    "class Flatten(nn.Module):\n",
    "    def forward(self, input):\n",
    "        return input.view(input.size(0), -1)\n",
    "    \n",
    "vgg16fc7 = torch.nn.Sequential(\n",
    "    vgg16.features,\n",
    "    vgg16.avgpool,\n",
    "    Flatten(),\n",
    "    *list(vgg16.classifier.children())[:-3]  # 最後の3つのlayer(relu,dropout,fc1000)を削除\n",
    ")\n",
    "# 表示してみます．fc7 (fc4096)が最終出力になっているはずです．\n",
    "print(vgg16fc7)"
   ]
  },
  {
   "cell_type": "code",
   "execution_count": 15,
   "metadata": {},
   "outputs": [
    {
     "data": {
      "text/plain": [
       "torch.Size([1, 4096])"
      ]
     },
     "execution_count": 15,
     "metadata": {},
     "output_type": "execute_result"
    }
   ],
   "source": [
    "image_size = (128, 128) \n",
    "normalize = transforms.Normalize(mean=[0.485, 0.456, 0.406], std=[0.229, 0.224, 0.225])\n",
    "image_transform = transforms.Compose([transforms.Resize(image_size),transforms.ToTensor(),normalize])\n",
    "img = Image.open('uecfood10/beef-curry/10575.jpg')\n",
    "img = image_transform(img)\n",
    "img = img.unsqueeze(0)\n",
    "\n",
    "vgg16fc7.eval()\n",
    "with torch.no_grad():\n",
    "    x1=vgg16fc7(img)\n",
    "x1.shape"
   ]
  },
  {
   "cell_type": "code",
   "execution_count": 71,
   "metadata": {},
   "outputs": [],
   "source": [
    "import glob\n",
    "imglist=glob.glob('animal/cat/*.jpg')+glob.glob('animal/dog/*.jpg')+glob.glob('animal/elephant/*.jpg')\\\n",
    "        +glob.glob('animal/fish/*.jpg')+glob.glob('animal/horse/*.jpg')+glob.glob('animal/lion/*.jpg')\\\n",
    "        +glob.glob('animal/penguin/*.jpg') +glob.glob('animal/tiger/*.jpg') +glob.glob('animal/whale/*.jpg')\\\n",
    "         +glob.glob('animal/wildcat/*.jpg')"
   ]
  },
  {
   "cell_type": "code",
   "execution_count": 76,
   "metadata": {},
   "outputs": [
    {
     "data": {
      "text/plain": [
       "['animal/penguin/541074.jpg',\n",
       " 'animal/fish/209071.jpg',\n",
       " 'animal/horse/197057.jpg',\n",
       " 'animal/cat/458074.jpg',\n",
       " 'animal/dog/415019.jpg',\n",
       " 'animal/wildcat/326082.jpg',\n",
       " 'animal/fish/209028.jpg',\n",
       " 'animal/horse/197010.jpg',\n",
       " 'animal/cat/458096.jpg',\n",
       " 'animal/horse/197014.jpg',\n",
       " 'animal/lion/105004.jpg',\n",
       " 'animal/wildcat/326081.jpg',\n",
       " 'animal/wildcat/326009.jpg',\n",
       " 'animal/lion/105086.jpg',\n",
       " 'animal/whale/314003.jpg',\n",
       " 'animal/lion/105061.jpg',\n",
       " 'animal/tiger/108092.jpg',\n",
       " 'animal/fish/209008.jpg',\n",
       " 'animal/lion/105013.jpg',\n",
       " 'animal/whale/314096.jpg',\n",
       " 'animal/tiger/108064.jpg',\n",
       " 'animal/horse/197003.jpg',\n",
       " 'animal/wildcat/326025.jpg',\n",
       " 'animal/tiger/108033.jpg',\n",
       " 'animal/horse/197063.jpg',\n",
       " 'animal/horse/197041.jpg',\n",
       " 'animal/dog/415010.jpg',\n",
       " 'animal/horse/197009.jpg',\n",
       " 'animal/whale/314058.jpg',\n",
       " 'animal/fish/209034.jpg',\n",
       " 'animal/elephant/107069.jpg',\n",
       " 'animal/horse/197009.jpg',\n",
       " 'animal/horse/197097.jpg',\n",
       " 'animal/tiger/108067.jpg',\n",
       " 'animal/whale/314071.jpg',\n",
       " 'animal/whale/314048.jpg',\n",
       " 'animal/fish/209022.jpg',\n",
       " 'animal/whale/314038.jpg',\n",
       " 'animal/elephant/107049.jpg',\n",
       " 'animal/penguin/541034.jpg',\n",
       " 'animal/horse/197078.jpg',\n",
       " 'animal/lion/105078.jpg',\n",
       " 'animal/lion/105079.jpg',\n",
       " 'animal/whale/314071.jpg',\n",
       " 'animal/cat/458057.jpg',\n",
       " 'animal/whale/314005.jpg',\n",
       " 'animal/horse/197074.jpg',\n",
       " 'animal/penguin/541027.jpg',\n",
       " 'animal/elephant/107026.jpg',\n",
       " 'animal/fish/209029.jpg',\n",
       " 'animal/wildcat/326033.jpg',\n",
       " 'animal/cat/458006.jpg',\n",
       " 'animal/horse/197023.jpg',\n",
       " 'animal/cat/458080.jpg',\n",
       " 'animal/dog/415054.jpg',\n",
       " 'animal/penguin/541044.jpg',\n",
       " 'animal/tiger/108096.jpg',\n",
       " 'animal/fish/209057.jpg',\n",
       " 'animal/tiger/108034.jpg',\n",
       " 'animal/tiger/108064.jpg',\n",
       " 'animal/penguin/541073.jpg',\n",
       " 'animal/horse/197013.jpg',\n",
       " 'animal/tiger/108066.jpg',\n",
       " 'animal/tiger/108084.jpg',\n",
       " 'animal/tiger/108020.jpg',\n",
       " 'animal/lion/105065.jpg',\n",
       " 'animal/dog/415008.jpg',\n",
       " 'animal/lion/105071.jpg',\n",
       " 'animal/fish/209038.jpg',\n",
       " 'animal/tiger/108014.jpg',\n",
       " 'animal/dog/415076.jpg',\n",
       " 'animal/penguin/541090.jpg',\n",
       " 'animal/horse/197008.jpg',\n",
       " 'animal/horse/197094.jpg',\n",
       " 'animal/dog/415069.jpg',\n",
       " 'animal/penguin/541095.jpg',\n",
       " 'animal/whale/314017.jpg',\n",
       " 'animal/tiger/108049.jpg',\n",
       " 'animal/penguin/541066.jpg',\n",
       " 'animal/tiger/108088.jpg',\n",
       " 'animal/dog/415073.jpg',\n",
       " 'animal/lion/105047.jpg',\n",
       " 'animal/wildcat/326079.jpg',\n",
       " 'animal/fish/209000.jpg',\n",
       " 'animal/cat/458041.jpg',\n",
       " 'animal/dog/415076.jpg',\n",
       " 'animal/fish/209086.jpg',\n",
       " 'animal/cat/458017.jpg',\n",
       " 'animal/whale/314026.jpg',\n",
       " 'animal/cat/458086.jpg',\n",
       " 'animal/fish/209061.jpg',\n",
       " 'animal/whale/314067.jpg',\n",
       " 'animal/penguin/541018.jpg',\n",
       " 'animal/dog/415014.jpg',\n",
       " 'animal/whale/314081.jpg',\n",
       " 'animal/penguin/541048.jpg',\n",
       " 'animal/wildcat/326051.jpg',\n",
       " 'animal/dog/415046.jpg',\n",
       " 'animal/horse/197089.jpg',\n",
       " 'animal/penguin/541062.jpg']"
      ]
     },
     "execution_count": 76,
     "metadata": {},
     "output_type": "execute_result"
    }
   ],
   "source": [
    "image100"
   ]
  },
  {
   "cell_type": "code",
   "execution_count": 73,
   "metadata": {},
   "outputs": [],
   "source": [
    "import random\n",
    "image100 = []\n",
    "for i in range(0, 100):\n",
    "    index = random.randint(0, 1000)\n",
    "    image100.append(imglist[index])"
   ]
  },
  {
   "cell_type": "code",
   "execution_count": 98,
   "metadata": {},
   "outputs": [],
   "source": [
    "#画像にラベルをつける\n",
    "label100 = []\n",
    "labeltsuke = {\"cat\":0, \"dog\":1, \"elephant\":2, \"fish\":3, \"horse\":4, \"lion\":5,\"penguin\":6, \"tiger\":7, \"whale\":8, \"wildcat\":9}\n",
    "for image in image100:\n",
    "    label = image.split(\"/\")[1]\n",
    "    a = labeltsuke[label]\n",
    "    label100.append(a)\n",
    "label100 = np.array(label100)"
   ]
  },
  {
   "cell_type": "code",
   "execution_count": 74,
   "metadata": {},
   "outputs": [],
   "source": [
    "fc7_100 = []\n",
    "for image in image100:\n",
    "    img = Image.open(image)\n",
    "    img = image_transform(img)\n",
    "    img = img.unsqueeze(0)\n",
    "    with torch.no_grad():\n",
    "        fc7 = vgg16fc7(img)\n",
    "        fc7 = fc7.detach().numpy().reshape(4096,)\n",
    "    fc7_100.append(fc7)\n",
    "    \n",
    "fc7_100 = np.array(fc7_100)"
   ]
  },
  {
   "cell_type": "code",
   "execution_count": 77,
   "metadata": {},
   "outputs": [
    {
     "data": {
      "text/plain": [
       "(100, 4096)"
      ]
     },
     "execution_count": 77,
     "metadata": {},
     "output_type": "execute_result"
    }
   ],
   "source": [
    "fc7_100.shape"
   ]
  },
  {
   "cell_type": "code",
   "execution_count": 41,
   "metadata": {},
   "outputs": [],
   "source": [
    "import pandas as pd\n",
    "import urllib.request \n",
    "import sklearn\n",
    "from sklearn.decomposition import PCA #主成分分析器\n",
    "import sklearn.datasets as datasets"
   ]
  },
  {
   "cell_type": "code",
   "execution_count": 217,
   "metadata": {},
   "outputs": [
    {
     "data": {
      "image/png": "[encoded data removed]",
      "text/plain": [
       "<Figure size 432x288 with 1 Axes>"
      ]
     },
     "metadata": {
      "needs_background": "light"
     },
     "output_type": "display_data"
    }
   ],
   "source": [
    "#4096次元のクラスタリング\n",
    "from sklearn.cluster import KMeans \n",
    "kmeans_model = KMeans(n_clusters=5, random_state = 0).fit(fc7_100)\n",
    "result1a = kmeans_model.labels_\n",
    "plt.scatter(label100, result1a, alpha=0.6)\n",
    "plt.show()"
   ]
  },
  {
   "cell_type": "code",
   "execution_count": 214,
   "metadata": {},
   "outputs": [
    {
     "data": {
      "image/png": "[encoded data removed]",
      "text/plain": [
       "<Figure size 432x288 with 1 Axes>"
      ]
     },
     "metadata": {
      "needs_background": "light"
     },
     "output_type": "display_data"
    }
   ],
   "source": [
    "kmeans_model10 = KMeans(n_clusters=10, random_state = 0).fit(fc7_100)\n",
    "result1b = kmeans_model10.labels_\n",
    "plt.scatter(label100, result1b, alpha=0.6)\n",
    "plt.show()"
   ]
  },
  {
   "cell_type": "code",
   "execution_count": 218,
   "metadata": {},
   "outputs": [
    {
     "data": {
      "image/png": "[encoded data removed]",
      "text/plain": [
       "<Figure size 432x288 with 1 Axes>"
      ]
     },
     "metadata": {
      "needs_background": "light"
     },
     "output_type": "display_data"
    }
   ],
   "source": [
    "#寄与率95％のクラスタリング\n",
    "pca = PCA(n_components = 0.95).fit(fc7_100)\n",
    "values = pca.transform(fc7_100)\n",
    "kmeans_model95 = KMeans(n_clusters=5, random_state = 0).fit(values)\n",
    "result2a = kmeans_model95.labels_\n",
    "plt.scatter(label100, result2a, alpha=0.6)\n",
    "plt.show()"
   ]
  },
  {
   "cell_type": "code",
   "execution_count": 225,
   "metadata": {},
   "outputs": [
    {
     "data": {
      "image/png": "[encoded data removed]",
      "text/plain": [
       "<Figure size 432x288 with 1 Axes>"
      ]
     },
     "metadata": {
      "needs_background": "light"
     },
     "output_type": "display_data"
    }
   ],
   "source": [
    "kmeans_model95_10 = KMeans(n_clusters=10,random_state = 0).fit(values)\n",
    "result2b = kmeans_model95_10.labels_\n",
    "plt.scatter(label100, result2b, alpha=0.6)\n",
    "plt.show()"
   ]
  },
  {
   "cell_type": "code",
   "execution_count": 219,
   "metadata": {},
   "outputs": [
    {
     "data": {
      "image/png": "[encoded data removed]",
      "text/plain": [
       "<Figure size 432x288 with 1 Axes>"
      ]
     },
     "metadata": {
      "needs_background": "light"
     },
     "output_type": "display_data"
    }
   ],
   "source": [
    "#寄与率90％のクラスタリング\n",
    "pca = PCA(n_components = 0.9,random_state = 0).fit(fc7_100)\n",
    "values = pca.transform(fc7_100)\n",
    "kmeans_model90 = KMeans(n_clusters=5).fit(values)\n",
    "result3a = kmeans_model90.labels_\n",
    "plt.scatter(label100, result3a, alpha=0.6)\n",
    "plt.show()"
   ]
  },
  {
   "cell_type": "code",
   "execution_count": 224,
   "metadata": {},
   "outputs": [
    {
     "data": {
      "image/png": "[encoded data removed]",
      "text/plain": [
       "<Figure size 432x288 with 1 Axes>"
      ]
     },
     "metadata": {
      "needs_background": "light"
     },
     "output_type": "display_data"
    }
   ],
   "source": [
    "kmeans_model90_10 = KMeans(n_clusters=10,random_state = 0).fit(values)\n",
    "result3b = kmeans_model90_10.labels_\n",
    "plt.scatter(label100, result3b, alpha=0.6)\n",
    "plt.show()"
   ]
  },
  {
   "cell_type": "code",
   "execution_count": 222,
   "metadata": {},
   "outputs": [
    {
     "data": {
      "image/png": "[encoded data removed]",
      "text/plain": [
       "<Figure size 432x288 with 1 Axes>"
      ]
     },
     "metadata": {
      "needs_background": "light"
     },
     "output_type": "display_data"
    }
   ],
   "source": [
    "#128次元のクラスタリング\n",
    "#sci-kit learnのPCA関数は、n_componentsの値がサンプル数と元次元数のいずれかを超えることができないため、\n",
    "#最大値(100次元)を試した\n",
    "pca = PCA(n_components = 100).fit(fc7_100)\n",
    "values = pca.transform(fc7_100)\n",
    "kmeans_model128 = KMeans(n_clusters=5,random_state = 0).fit(values)\n",
    "result4a = kmeans_model128.labels_\n",
    "plt.scatter(label100, result4a, alpha=0.6)\n",
    "plt.show()"
   ]
  },
  {
   "cell_type": "code",
   "execution_count": 223,
   "metadata": {},
   "outputs": [
    {
     "data": {
      "image/png": "[encoded data removed]",
      "text/plain": [
       "<Figure size 432x288 with 1 Axes>"
      ]
     },
     "metadata": {
      "needs_background": "light"
     },
     "output_type": "display_data"
    }
   ],
   "source": [
    "kmeans_model128_10 = KMeans(n_clusters=10,random_state = 0).fit(values)\n",
    "result4b = kmeans_model128_10.labels_\n",
    "plt.scatter(label100, result4b, alpha=0.6)\n",
    "plt.show()"
   ]
  },
  {
   "cell_type": "code",
   "execution_count": 172,
   "metadata": {},
   "outputs": [
    {
     "data": {
      "text/plain": [
       "(100, 28)"
      ]
     },
     "execution_count": 172,
     "metadata": {},
     "output_type": "execute_result"
    }
   ],
   "source": [
    "pca = PCA(n_components = 0.9).fit(fc7_100)\n",
    "values = pca.transform(fc7_100)\n",
    "values.shape"
   ]
  },
  {
   "cell_type": "code",
   "execution_count": 189,
   "metadata": {},
   "outputs": [
    {
     "data": {
      "text/plain": [
       "array([1.8788750e-01, 1.0000516e-01, 9.2392974e-02, 6.9644630e-02,\n",
       "       5.3866435e-02, 5.1850993e-02, 4.7862779e-02, 3.2658122e-02,\n",
       "       3.0566230e-02, 2.9516930e-02, 2.5162637e-02, 1.9283827e-02,\n",
       "       1.7577814e-02, 1.6801143e-02, 1.5591593e-02, 1.4417133e-02,\n",
       "       1.2109503e-02, 1.1795672e-02, 1.0609194e-02, 9.6810013e-03,\n",
       "       9.3308007e-03, 8.2648657e-03, 7.5537809e-03, 7.1172514e-03,\n",
       "       6.5328632e-03, 5.9997840e-03, 5.7361214e-03, 5.4919752e-03,\n",
       "       5.1154639e-03, 4.8486092e-03, 4.6398360e-03, 4.2758682e-03,\n",
       "       4.1792449e-03, 3.6966207e-03, 3.4842566e-03, 3.3284740e-03,\n",
       "       3.1077897e-03, 2.9678533e-03, 2.7397019e-03, 2.6271218e-03,\n",
       "       2.5793121e-03, 2.3646180e-03, 2.2502625e-03, 2.1804846e-03,\n",
       "       2.0736982e-03, 1.9884310e-03, 1.8950090e-03, 1.8383380e-03,\n",
       "       1.7030276e-03, 1.5419781e-03, 1.4687192e-03, 1.3496537e-03,\n",
       "       1.3298292e-03, 1.3043918e-03, 1.2858387e-03, 1.2505086e-03,\n",
       "       1.2151925e-03, 1.0710899e-03, 1.0267918e-03, 9.7356929e-04,\n",
       "       9.6244167e-04, 9.2406990e-04, 8.5397495e-04, 7.8531296e-04,\n",
       "       7.5377175e-04, 7.2459521e-04, 7.0611940e-04, 6.7719468e-04,\n",
       "       6.4983190e-04, 6.2258402e-04, 5.8132358e-04, 5.6131778e-04,\n",
       "       5.4589799e-04, 5.2418816e-04, 4.9681583e-04, 4.8082753e-04,\n",
       "       4.7732779e-04, 4.6339427e-04, 4.3314756e-04, 4.0785797e-04,\n",
       "       3.9292834e-04, 3.8219101e-04, 3.7251532e-04, 3.5636820e-04,\n",
       "       3.2789767e-04, 3.2206907e-04, 3.0754710e-04, 2.8914810e-04,\n",
       "       2.6785664e-04, 2.5017731e-04, 2.4591608e-04, 2.2958319e-04,\n",
       "       2.1101006e-04, 2.0270502e-04, 1.9981748e-04, 2.3382289e-14,\n",
       "       3.5282205e-16, 3.5282205e-16, 3.5282205e-16, 8.9616820e-17],\n",
       "      dtype=float32)"
      ]
     },
     "execution_count": 189,
     "metadata": {},
     "output_type": "execute_result"
    }
   ],
   "source": [
    "pca.explained_variance_ratio_"
   ]
  },
  {
   "cell_type": "code",
   "execution_count": 190,
   "metadata": {},
   "outputs": [
    {
     "data": {
      "text/plain": [
       "array([1.08715908e+04, 5.78652197e+03, 5.34606396e+03, 4.02979395e+03,\n",
       "       3.11683228e+03, 3.00021436e+03, 2.76944727e+03, 1.88967200e+03,\n",
       "       1.76863037e+03, 1.70791553e+03, 1.45596643e+03, 1.11580530e+03,\n",
       "       1.01709155e+03, 9.72151672e+02, 9.02164429e+02, 8.34207520e+02,\n",
       "       7.00682922e+02, 6.82523926e+02, 6.13871643e+02, 5.60164368e+02,\n",
       "       5.39901001e+02, 4.78223572e+02, 4.37078644e+02, 4.11820068e+02,\n",
       "       3.78006073e+02, 3.47160919e+02, 3.31904816e+02, 3.17777954e+02,\n",
       "       2.95992157e+02, 2.80551361e+02, 2.68471283e+02, 2.47411285e+02,\n",
       "       2.41820450e+02, 2.13894730e+02, 2.01606873e+02, 1.92592941e+02,\n",
       "       1.79823654e+02, 1.71726624e+02, 1.58525269e+02, 1.52011139e+02,\n",
       "       1.49244766e+02, 1.36822083e+02, 1.30205215e+02, 1.26167709e+02,\n",
       "       1.19988815e+02, 1.15055054e+02, 1.09649452e+02, 1.06370346e+02,\n",
       "       9.85409851e+01, 8.92222977e+01, 8.49833755e+01, 7.80939789e+01,\n",
       "       7.69468918e+01, 7.54750214e+01, 7.44014969e+01, 7.23572235e+01,\n",
       "       7.03137512e+01, 6.19756508e+01, 5.94124641e+01, 5.63328934e+01,\n",
       "       5.56890259e+01, 5.34687500e+01, 4.94128990e+01, 4.54399643e+01,\n",
       "       4.36149178e+01, 4.19266968e+01, 4.08576469e+01, 3.91839981e+01,\n",
       "       3.76007271e+01, 3.60241013e+01, 3.36366806e+01, 3.24790993e+01,\n",
       "       3.15868778e+01, 3.03306980e+01, 2.87468758e+01, 2.78217545e+01,\n",
       "       2.76192532e+01, 2.68130283e+01, 2.50628853e+01, 2.35995731e+01,\n",
       "       2.27357121e+01, 2.21144257e+01, 2.15545692e+01, 2.06202602e+01,\n",
       "       1.89728909e+01, 1.86356354e+01, 1.77953625e+01, 1.67307549e+01,\n",
       "       1.54987841e+01, 1.44758186e+01, 1.42292528e+01, 1.32841969e+01,\n",
       "       1.22095137e+01, 1.17289658e+01, 1.15618858e+01, 1.35295142e-09,\n",
       "       2.04150724e-11, 2.04150724e-11, 2.04150724e-11, 5.18542934e-12],\n",
       "      dtype=float32)"
      ]
     },
     "execution_count": 190,
     "metadata": {},
     "output_type": "execute_result"
    }
   ],
   "source": [
    "pca.explained_variance_"
   ]
  },
  {
   "cell_type": "code",
   "execution_count": null,
   "metadata": {
    "collapsed": true
   },
   "outputs": [],
   "source": []
  }
 ],
 "metadata": {
  "kernelspec": {
   "display_name": "Python 3 (Anaconda)",
   "language": "python",
   "name": "python3_anaconda"
  },
  "language_info": {
   "codemirror_mode": {
    "name": "ipython",
    "version": 3
   },
   "file_extension": ".py",
   "mimetype": "text/x-python",
   "name": "python",
   "nbconvert_exporter": "python",
   "pygments_lexer": "ipython3",
   "version": "3.6.9"
  }
 },
 "nbformat": 4,
 "nbformat_minor": 2
}
